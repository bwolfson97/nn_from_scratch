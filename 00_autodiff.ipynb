{
 "cells": [
  {
   "cell_type": "code",
   "execution_count": null,
   "metadata": {},
   "outputs": [],
   "source": [
    "# default_exp autodiff"
   ]
  },
  {
   "cell_type": "markdown",
   "metadata": {},
   "source": [
    "# Autodiff\n",
    "\n",
    "> Autodiff engine."
   ]
  },
  {
   "cell_type": "code",
   "execution_count": null,
   "metadata": {},
   "outputs": [],
   "source": [
    "from fastcore.test import *"
   ]
  },
  {
   "cell_type": "code",
   "execution_count": null,
   "metadata": {},
   "outputs": [],
   "source": [
    "#export\n",
    "class Variable:\n",
    "    def __init__(self, value: float, local_grads: list[tuple[\"Variable\", float]]=None) -> None:\n",
    "        self.value = value\n",
    "        self.grad = 0.\n",
    "        self._local_grads = [] if local_grads is None else local_grads\n",
    "\n",
    "    def backwards(self):\n",
    "        self.grad = 1.\n",
    "        def compute_grads(var):\n",
    "            \"\"\"Apply 1 step of the chain rule, populating `var`'s children variables with their full gradient.\"\"\"\n",
    "            for child_var, local_grad in var._local_grads:\n",
    "                # Apply the chain rule\n",
    "                child_var.grad += var.grad * local_grad  # Add in case this var is used in other paths\n",
    "                compute_grads(child_var)\n",
    "        compute_grads(self)\n",
    "\n",
    "    def __add__(self, other):\n",
    "        if isinstance(other, Variable):\n",
    "            return Variable(self.value + other.value, [(self, 1), (other, 1)])\n",
    "        else:  # other is constant\n",
    "            return Variable(self.value + other, [(self, 1)])\n",
    "\n",
    "    def __mul__(self, other):\n",
    "        if isinstance(other, Variable):\n",
    "            return Variable(self.value * other.value, [(self, other.value), (other, self.value)])\n",
    "        else:  # other is constant\n",
    "            return Variable(self.value * other, [(self, other)])\n",
    "    \n",
    "    def __neg__(self):\n",
    "        return Variable(-self.value, [(self, -1)])\n",
    "\n",
    "    def __sub__(self, other): return self + (-other)\n",
    "\n",
    "    def __truediv__(self, other):\n",
    "        if isinstance(other, Variable):\n",
    "            return Variable(self.value / other.value, [(self, 1 / other.value), (other, -self.value / other.value**2)])\n",
    "        else:\n",
    "            return Variable(self.value / other, [(self, 1 / other)])\n",
    "    \n",
    "    def __pow__(self, power: float):\n",
    "        return Variable(self.value ** power, [(self, power * self.value ** (power - 1))])\n",
    "    \n",
    "    def __eq__(self, other) -> bool:\n",
    "        if isinstance(other, Variable): return self.value == other.value\n",
    "        else:                           return self.value == other\n",
    "\n",
    "    def __repr__(self) -> str:\n",
    "        values = dict(value=self.value, grad=self.grad, _local_grads=self._local_grads)\n",
    "        return f\"Variable: {values}\"\n",
    "\n",
    "    def __str__(self) -> str: return repr(self)"
   ]
  },
  {
   "cell_type": "code",
   "execution_count": null,
   "metadata": {},
   "outputs": [],
   "source": [
    "# Test eq\n",
    "a,b = Variable(2),Variable(2)\n",
    "test_eq(a, b)\n",
    "\n",
    "# Test add\n",
    "a,b = Variable(5),Variable(2)\n",
    "out = a+b\n",
    "test_eq(out, 7)\n",
    "out.backwards()\n",
    "test_eq(a.grad, 1)\n",
    "test_eq(b.grad, 1)\n",
    "\n",
    "# Test mul\n",
    "a,b = Variable(5),Variable(2)\n",
    "out= a*b\n",
    "test_eq(out, 10)\n",
    "out.backwards()\n",
    "test_eq(a.grad, 2)\n",
    "test_eq(b.grad, 5)\n",
    "\n",
    "# Test sub\n",
    "a,b = Variable(5),Variable(2)\n",
    "out = a-b\n",
    "test_eq(out, 3)\n",
    "out.backwards()\n",
    "test_eq(a.grad, 1)\n",
    "test_eq(b.grad, -1)\n",
    "\n",
    "# Test div\n",
    "a,b = Variable(5),Variable(2)\n",
    "out = a/b\n",
    "test_eq(out, 2.5)\n",
    "out.backwards()\n",
    "test_eq(a.grad, 0.5)\n",
    "test_eq(b.grad, -5/4)\n",
    "\n",
    "# Test pow\n",
    "a = Variable(5)\n",
    "out = a ** 3\n",
    "test_eq(out, 125)\n",
    "out.backwards()\n",
    "test_eq(a.grad, 3*5**2)"
   ]
  },
  {
   "cell_type": "code",
   "execution_count": null,
   "metadata": {},
   "outputs": [],
   "source": [
    "#export\n",
    "def create_constant_tensor(shape, value):\n",
    "    \"\"\"Creates tensor with `shape`, filled with `value`.\"\"\"\n",
    "    if len(shape) == 1:\n",
    "        return [value] * shape[0]\n",
    "    return [create_constant_tensor(shape[1:], value) for _ in range(shape[0])]"
   ]
  },
  {
   "cell_type": "code",
   "execution_count": null,
   "metadata": {},
   "outputs": [],
   "source": [
    "test_eq(create_constant_tensor((2, 3), 0), [[0, 0, 0],\n",
    "                                   [0, 0, 0]])\n",
    "test_eq(create_constant_tensor((1, 2, 3), 0), [[[0, 0, 0],\n",
    "                                     [0, 0, 0]]])\n",
    "test_eq(create_constant_tensor((3,), 0), [0, 0, 0])"
   ]
  },
  {
   "cell_type": "code",
   "execution_count": null,
   "metadata": {},
   "outputs": [],
   "source": [
    "#export\n",
    "def create_zero_tensor(*shape): return create_constant_tensor(shape, 0.)\n",
    "def create_ones_tensor(*shape): return create_constant_tensor(shape, 1.)"
   ]
  },
  {
   "cell_type": "code",
   "execution_count": null,
   "metadata": {},
   "outputs": [],
   "source": [
    "test_eq(create_zero_tensor(2,2)[0][0], 0)\n",
    "test_eq(create_ones_tensor(2,2)[0][0], 1)"
   ]
  },
  {
   "cell_type": "code",
   "execution_count": null,
   "metadata": {},
   "outputs": [],
   "source": [
    "#export\n",
    "def get_shape(tensor):\n",
    "    \"\"\"Get shape.\"\"\"\n",
    "    if not isinstance(tensor, list):\n",
    "        return ()\n",
    "    return (len(tensor),) + get_shape(tensor[0])"
   ]
  },
  {
   "cell_type": "code",
   "execution_count": null,
   "metadata": {},
   "outputs": [],
   "source": [
    "shape = (1, 2, 3)\n",
    "test_eq(get_shape(create_zero_tensor(*shape)), shape)"
   ]
  },
  {
   "cell_type": "markdown",
   "metadata": {},
   "source": [
    "## Fix this `generate_all_indices` function and then finish vectorized ops for `Tensor` class and then create `TensorVariable` class that has each elem of tensor as a `Variable`"
   ]
  },
  {
   "cell_type": "code",
   "execution_count": null,
   "metadata": {},
   "outputs": [],
   "source": [
    "#export\n",
    "def generate_all_indices(shape):\n",
    "    if len(shape) == 1:\n",
    "        yield from ((i,) for i in range(shape[0]))\n",
    "    other_indices = generate_all_indices(shape[1:])\n",
    "    print(list(other_indices))\n",
    "    for rest in other_indices:\n",
    "        for i in range(shape[0]):\n",
    "            yield (i,) + rest"
   ]
  },
  {
   "cell_type": "code",
   "execution_count": null,
   "metadata": {},
   "outputs": [
    {
     "ename": "RecursionError",
     "evalue": "maximum recursion depth exceeded while calling a Python object",
     "output_type": "error",
     "traceback": [
      "\u001b[0;31m---------------------------------------------------------------------------\u001b[0m",
      "\u001b[0;31mRecursionError\u001b[0m                            Traceback (most recent call last)",
      "\u001b[0;32m/tmp/ipykernel_2540/3075515316.py\u001b[0m in \u001b[0;36m<module>\u001b[0;34m\u001b[0m\n\u001b[0;32m----> 1\u001b[0;31m \u001b[0mlist\u001b[0m\u001b[0;34m(\u001b[0m\u001b[0mgenerate_all_indices\u001b[0m\u001b[0;34m(\u001b[0m\u001b[0;34m(\u001b[0m\u001b[0;36m2\u001b[0m\u001b[0;34m,\u001b[0m \u001b[0;36m3\u001b[0m\u001b[0;34m)\u001b[0m\u001b[0;34m)\u001b[0m\u001b[0;34m)\u001b[0m\u001b[0;34m\u001b[0m\u001b[0;34m\u001b[0m\u001b[0m\n\u001b[0m",
      "\u001b[0;32m/tmp/ipykernel_2540/217238278.py\u001b[0m in \u001b[0;36mgenerate_all_indices\u001b[0;34m(shape)\u001b[0m\n\u001b[1;32m      4\u001b[0m         \u001b[0;32myield\u001b[0m \u001b[0;32mfrom\u001b[0m \u001b[0;34m(\u001b[0m\u001b[0;34m(\u001b[0m\u001b[0mi\u001b[0m\u001b[0;34m,\u001b[0m\u001b[0;34m)\u001b[0m \u001b[0;32mfor\u001b[0m \u001b[0mi\u001b[0m \u001b[0;32min\u001b[0m \u001b[0mrange\u001b[0m\u001b[0;34m(\u001b[0m\u001b[0mshape\u001b[0m\u001b[0;34m[\u001b[0m\u001b[0;36m0\u001b[0m\u001b[0;34m]\u001b[0m\u001b[0;34m)\u001b[0m\u001b[0;34m)\u001b[0m\u001b[0;34m\u001b[0m\u001b[0;34m\u001b[0m\u001b[0m\n\u001b[1;32m      5\u001b[0m     \u001b[0mother_indices\u001b[0m \u001b[0;34m=\u001b[0m \u001b[0mgenerate_all_indices\u001b[0m\u001b[0;34m(\u001b[0m\u001b[0mshape\u001b[0m\u001b[0;34m[\u001b[0m\u001b[0;36m1\u001b[0m\u001b[0;34m:\u001b[0m\u001b[0;34m]\u001b[0m\u001b[0;34m)\u001b[0m\u001b[0;34m\u001b[0m\u001b[0;34m\u001b[0m\u001b[0m\n\u001b[0;32m----> 6\u001b[0;31m     \u001b[0mprint\u001b[0m\u001b[0;34m(\u001b[0m\u001b[0mlist\u001b[0m\u001b[0;34m(\u001b[0m\u001b[0mother_indices\u001b[0m\u001b[0;34m)\u001b[0m\u001b[0;34m)\u001b[0m\u001b[0;34m\u001b[0m\u001b[0;34m\u001b[0m\u001b[0m\n\u001b[0m\u001b[1;32m      7\u001b[0m     \u001b[0;32mfor\u001b[0m \u001b[0mrest\u001b[0m \u001b[0;32min\u001b[0m \u001b[0mother_indices\u001b[0m\u001b[0;34m:\u001b[0m\u001b[0;34m\u001b[0m\u001b[0;34m\u001b[0m\u001b[0m\n\u001b[1;32m      8\u001b[0m         \u001b[0;32mfor\u001b[0m \u001b[0mi\u001b[0m \u001b[0;32min\u001b[0m \u001b[0mrange\u001b[0m\u001b[0;34m(\u001b[0m\u001b[0mshape\u001b[0m\u001b[0;34m[\u001b[0m\u001b[0;36m0\u001b[0m\u001b[0;34m]\u001b[0m\u001b[0;34m)\u001b[0m\u001b[0;34m:\u001b[0m\u001b[0;34m\u001b[0m\u001b[0;34m\u001b[0m\u001b[0m\n",
      "... last 1 frames repeated, from the frame below ...\n",
      "\u001b[0;32m/tmp/ipykernel_2540/217238278.py\u001b[0m in \u001b[0;36mgenerate_all_indices\u001b[0;34m(shape)\u001b[0m\n\u001b[1;32m      4\u001b[0m         \u001b[0;32myield\u001b[0m \u001b[0;32mfrom\u001b[0m \u001b[0;34m(\u001b[0m\u001b[0;34m(\u001b[0m\u001b[0mi\u001b[0m\u001b[0;34m,\u001b[0m\u001b[0;34m)\u001b[0m \u001b[0;32mfor\u001b[0m \u001b[0mi\u001b[0m \u001b[0;32min\u001b[0m \u001b[0mrange\u001b[0m\u001b[0;34m(\u001b[0m\u001b[0mshape\u001b[0m\u001b[0;34m[\u001b[0m\u001b[0;36m0\u001b[0m\u001b[0;34m]\u001b[0m\u001b[0;34m)\u001b[0m\u001b[0;34m)\u001b[0m\u001b[0;34m\u001b[0m\u001b[0;34m\u001b[0m\u001b[0m\n\u001b[1;32m      5\u001b[0m     \u001b[0mother_indices\u001b[0m \u001b[0;34m=\u001b[0m \u001b[0mgenerate_all_indices\u001b[0m\u001b[0;34m(\u001b[0m\u001b[0mshape\u001b[0m\u001b[0;34m[\u001b[0m\u001b[0;36m1\u001b[0m\u001b[0;34m:\u001b[0m\u001b[0;34m]\u001b[0m\u001b[0;34m)\u001b[0m\u001b[0;34m\u001b[0m\u001b[0;34m\u001b[0m\u001b[0m\n\u001b[0;32m----> 6\u001b[0;31m     \u001b[0mprint\u001b[0m\u001b[0;34m(\u001b[0m\u001b[0mlist\u001b[0m\u001b[0;34m(\u001b[0m\u001b[0mother_indices\u001b[0m\u001b[0;34m)\u001b[0m\u001b[0;34m)\u001b[0m\u001b[0;34m\u001b[0m\u001b[0;34m\u001b[0m\u001b[0m\n\u001b[0m\u001b[1;32m      7\u001b[0m     \u001b[0;32mfor\u001b[0m \u001b[0mrest\u001b[0m \u001b[0;32min\u001b[0m \u001b[0mother_indices\u001b[0m\u001b[0;34m:\u001b[0m\u001b[0;34m\u001b[0m\u001b[0;34m\u001b[0m\u001b[0m\n\u001b[1;32m      8\u001b[0m         \u001b[0;32mfor\u001b[0m \u001b[0mi\u001b[0m \u001b[0;32min\u001b[0m \u001b[0mrange\u001b[0m\u001b[0;34m(\u001b[0m\u001b[0mshape\u001b[0m\u001b[0;34m[\u001b[0m\u001b[0;36m0\u001b[0m\u001b[0;34m]\u001b[0m\u001b[0;34m)\u001b[0m\u001b[0;34m:\u001b[0m\u001b[0;34m\u001b[0m\u001b[0;34m\u001b[0m\u001b[0m\n",
      "\u001b[0;31mRecursionError\u001b[0m: maximum recursion depth exceeded while calling a Python object"
     ]
    }
   ],
   "source": [
    "list(generate_all_indices((2, 3)))"
   ]
  },
  {
   "cell_type": "code",
   "execution_count": null,
   "metadata": {},
   "outputs": [],
   "source": [
    "#export\n",
    "class Tensor:\n",
    "    def __init__(self, value):\n",
    "        self.shape = get_shape(value)\n",
    "        self.value = value\n",
    "\n",
    "    @classmethod\n",
    "    def zeros(cls, *shape):\n",
    "        return cls(create_zero_tensor(*shape))\n",
    "\n",
    "    def __getitem__(self, indices):\n",
    "        item = self.value\n",
    "        for idx in indices:\n",
    "            item = item[idx]\n",
    "        return item\n",
    "    \n",
    "    def __setitem__(self, indices, value):\n",
    "        item = self.value\n",
    "        for idx in indices[:-1]:\n",
    "            item = item[idx]\n",
    "        item[-1] = value\n",
    "    \n",
    "    def __add__(self, other):\n",
    "        if isinstance(other, float):\n",
    "            # Broadcast scalars to same shape\n",
    "            other = Tensor(create_constant_tensor(self.shape, other))\n",
    "        assert self.shape == other.shape\n",
    "        res = Tensor(create_zero_tensor(self.shape))\n",
    "        for indices in generate_all_indices(self.shape):\n",
    "            res[indices] = self[indices] + other[indices]\n",
    "    \n",
    "    def __repr__(self) -> str:\n",
    "        values = dict(shape=self.shape, value=self.value)\n",
    "        return f\"Tensor: {values}\"\n",
    "    \n",
    "    def __str__(self): return repr(self)\n",
    "        \n"
   ]
  },
  {
   "cell_type": "code",
   "execution_count": null,
   "metadata": {},
   "outputs": [],
   "source": [
    "# test shape\n",
    "tensor = Tensor([[1., 2., 3.],\n",
    "                 [4., 5., 6.]])\n",
    "test_eq(tensor.shape, (2, 3))\n",
    "tensor = Tensor([1., 2., 3.])\n",
    "test_eq(tensor.shape, (3,))\n",
    "tensor = Tensor(3.)\n",
    "test_eq(tensor.shape, ())\n",
    "\n",
    "# test indexing\n",
    "tensor = Tensor([[1., 2., 3.],\n",
    "                 [4., 5., 6.]])\n",
    "test_eq(tensor[0, 2], 3.)\n",
    "tensor[0, 2] = 10.\n",
    "test_eq(tensor[0, 2], 10.)"
   ]
  },
  {
   "cell_type": "code",
   "execution_count": null,
   "metadata": {},
   "outputs": [
    {
     "name": "stdout",
     "output_type": "stream",
     "text": [
      "Converted 00_autodiff.ipynb.\n",
      "Converted 01_module.ipynb.\n",
      "Converted index.ipynb.\n"
     ]
    }
   ],
   "source": [
    "#hide\n",
    "from nbdev.showdoc import *\n",
    "from nbdev.export import notebook2script; notebook2script()"
   ]
  },
  {
   "cell_type": "code",
   "execution_count": null,
   "metadata": {},
   "outputs": [],
   "source": []
  }
 ],
 "metadata": {
  "kernelspec": {
   "display_name": "Python 3",
   "language": "python",
   "name": "python3"
  }
 },
 "nbformat": 4,
 "nbformat_minor": 2
}
