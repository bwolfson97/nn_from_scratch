{
 "cells": [
  {
   "cell_type": "code",
   "execution_count": null,
   "metadata": {},
   "outputs": [],
   "source": [
    "#default_exp module"
   ]
  },
  {
   "cell_type": "markdown",
   "metadata": {},
   "source": [
    "# Module\n",
    "\n",
    "> Container encapsulating `Variable`s and some a forward pass."
   ]
  },
  {
   "cell_type": "code",
   "execution_count": null,
   "metadata": {},
   "outputs": [],
   "source": [
    "from fastcore.test import *"
   ]
  },
  {
   "cell_type": "code",
   "execution_count": null,
   "metadata": {},
   "outputs": [],
   "source": [
    "#export\n",
    "from nn_from_scratch.autodiff import Variable"
   ]
  },
  {
   "cell_type": "code",
   "execution_count": null,
   "metadata": {},
   "outputs": [],
   "source": [
    "#export\n",
    "class Module:\n",
    "    def __init__(self):\n",
    "        # Tracks Module's variables and sub-modules\n",
    "        self._params = []\n",
    "    \n",
    "    def __call__(self, *args, **kwargs):\n",
    "        raise NotImplementedError\n",
    "    \n",
    "    def __setattr__(self, name, value):\n",
    "        if isinstance(value, Variable):\n",
    "            # track variables\n",
    "            self._params.append(value)\n",
    "        if isinstance(value, Module):\n",
    "            self._params.append(value)\n",
    "        super().__setattr__(name, value)\n",
    "        \n",
    "    def params(self): \n",
    "        params = []\n",
    "        for p in self._params:\n",
    "            if isinstance(p, Module):\n",
    "                params += p.params()\n",
    "            else:\n",
    "                params.append(p)\n",
    "        return params"
   ]
  },
  {
   "cell_type": "code",
   "execution_count": null,
   "metadata": {},
   "outputs": [],
   "source": [
    "# test Variables get added to _params\n",
    "m = Module()\n",
    "var = Variable(3.)\n",
    "m.a = var\n",
    "m.b = \"hi\"\n",
    "test_eq(m.params(), [var])\n",
    "\n",
    "# test sub-module's variables are added too\n",
    "super_m = Module()\n",
    "c = Variable(10)\n",
    "super_m.c = c\n",
    "super_m.sub_m = m\n",
    "test_eq(super_m.params(), [c, var])"
   ]
  },
  {
   "cell_type": "code",
   "execution_count": null,
   "metadata": {},
   "outputs": [],
   "source": []
  },
  {
   "cell_type": "code",
   "execution_count": null,
   "metadata": {},
   "outputs": [],
   "source": [
    "#export\n",
    "class Linear(Module):\n",
    "    \"\"\"Outputs y = w1*x1 + ... + wn*xn, where n is the # of input channels.\"\"\"\n",
    "    def __init__(self, in_c):\n",
    "        self.\n",
    "        super().__init__()"
   ]
  },
  {
   "cell_type": "code",
   "execution_count": null,
   "metadata": {},
   "outputs": [],
   "source": [
    "#export\n",
    "class Dense(Module):\n",
    "    def __init__(self, in_c, out_c):\n",
    "        \n",
    "        super().__init__()"
   ]
  },
  {
   "cell_type": "code",
   "execution_count": null,
   "metadata": {},
   "outputs": [],
   "source": [
    "# test \n",
    "m = Dense(2, 3)\n",
    "test_eq(len(m.params()), 6)"
   ]
  },
  {
   "cell_type": "code",
   "execution_count": null,
   "metadata": {},
   "outputs": [
    {
     "name": "stdout",
     "output_type": "stream",
     "text": [
      "Converted 00_core.ipynb.\n",
      "Converted 01_module.ipynb.\n",
      "Converted index.ipynb.\n"
     ]
    }
   ],
   "source": [
    "#hide\n",
    "from nbdev.showdoc import *\n",
    "from nbdev.export import notebook2script; notebook2script()"
   ]
  },
  {
   "cell_type": "code",
   "execution_count": null,
   "metadata": {},
   "outputs": [],
   "source": []
  }
 ],
 "metadata": {
  "kernelspec": {
   "display_name": "Python 3.9.5 64-bit ('base': conda)",
   "language": "python",
   "name": "python3"
  }
 },
 "nbformat": 4,
 "nbformat_minor": 2
}
